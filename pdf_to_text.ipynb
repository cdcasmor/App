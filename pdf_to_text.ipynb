{
 "cells": [
  {
   "cell_type": "code",
   "execution_count": 1,
   "id": "3fc52b1a-8142-4cc4-8d32-2a0b2845540b",
   "metadata": {},
   "outputs": [],
   "source": [
    "from pdfquery import PDFQuery\n"
   ]
  },
  {
   "cell_type": "code",
   "execution_count": 3,
   "id": "189d8e62-78f0-41cc-8b3a-5d180dc7265b",
   "metadata": {},
   "outputs": [
    {
     "name": "stdout",
     "output_type": "stream",
     "text": [
      "['TRAINING SPLIT: EVERY REP IN EVERY SET IS SLOW AND CONTROLLED. I WANT ', 'ALL REPS TO BE DONE WITH INTENT AND NOT \"HOW FAST CAN I GET THIS SET OVER ', 'WITH\". ', '', '', '2. Superset- 2 exercises performed right after one another. ', '3. Rest pause set- perform set reps then pause for 15-30seconds ', '', '', 'EX: leg press would be 3 second on the way down when knees are coming to chest. ', 'EX: Upright row would be 3 second on the way down then you are extending elbows. ', 'Top sets should be 80-85% of your 1RM. Reps should be between 7-10. Once you’ve achieved ', 'more than 7reps increase weight ', '- Back down sets should be 15-20% lighter than the previous set performed. Reps should be ', '8-12. ', '', '- Working sets are 65-75% of the maximal load you can handle at that time of the training ', 'session. ', '', '- Keep a log of your lifts every week. Your focus in every set is good intent meaning form is ', 'perfect and the set is taken till failure without form being sacrificed. ', '', '', '- ', '- ', '1x top set 5-7 reps ', '2x working sets 12-15 reps ', '', '- ', '- ', '1x set of 5-7 reps ', '2x set of 12-15 reps ', '', '', '', '', '', '', '', '', '', '- Pull day: ', '1.BB or DB bent over row: ', '1x top set 5-7reps ', '2x working set 12-15 reps ', '- ', '- ', '', '', '', '', '', '', '4. BB chest supported Rear delt reverse flyes: ', 'LInked: https://youtu.be/BzPuC0X69Kg ', '2x working set 12-15 reps ', '', '', '- ', '- ', '2x 12-15 reps ', '1x 15-20 reps ', '', '', '', '-Leg day 1: ', '1. BB squat ', '- ', '- ', '1x top set of 5-7 reps ', '2x working sets of 12-15 reps ', '', '', '', '', '- ', '- ', '- ', '1x top set 5-7 reps ', '2x working set 12-15 reps ', '1x 15-20 reps ', '', '', '', '', '', '', '', '- Delts, chest, triceps: ', '1. BB or DB flat bench chest press: ', '- ', '- ', '1x 5-7 reps ', '2x 12-15 reps ', '', '', '', '', '', '', '', '', '', '', '', '', '', '', '', '', '- ', '- ', '1x top set of 5-7 reps ', '2x working sets of 12-15 reps ', '', '', '', '', '', '', '', '- ', '- ', '2x working sets of 20-24 reps in all (walking) ', '2x 10-15 reps ', '', '']\n"
     ]
    }
   ],
   "source": [
    "pdf = PDFQuery('Cesar.pdf')\n",
    "pdf.load()\n",
    "\n",
    "# Use CSS-like selectors to locate the elements\n",
    "text_elements = pdf.pq('LTTextLineHorizontal')\n",
    "\n",
    "# Extract the text from the elements\n",
    "text = [t.text for t in text_elements]\n",
    "\n",
    "print(text)"
   ]
  },
  {
   "cell_type": "code",
   "execution_count": null,
   "id": "87d76b24-cff2-4aa5-8c8a-d25e2e10b591",
   "metadata": {},
   "outputs": [],
   "source": []
  }
 ],
 "metadata": {
  "kernelspec": {
   "display_name": "Python 3 (ipykernel)",
   "language": "python",
   "name": "python3"
  },
  "language_info": {
   "codemirror_mode": {
    "name": "ipython",
    "version": 3
   },
   "file_extension": ".py",
   "mimetype": "text/x-python",
   "name": "python",
   "nbconvert_exporter": "python",
   "pygments_lexer": "ipython3",
   "version": "3.10.13"
  }
 },
 "nbformat": 4,
 "nbformat_minor": 5
}
